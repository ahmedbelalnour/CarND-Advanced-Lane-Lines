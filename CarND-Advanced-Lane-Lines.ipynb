{
 "cells": [
  {
   "cell_type": "markdown",
   "metadata": {},
   "source": [
    "# Add helper function to show images in a matrix"
   ]
  },
  {
   "cell_type": "code",
   "execution_count": null,
   "metadata": {},
   "outputs": [],
   "source": [
    "import os\n",
    "from matplotlib.pyplot import figure, imshow, axis\n",
    "from matplotlib import pyplot as plt\n",
    "from matplotlib.image import imread\n",
    "\n",
    "hSize = 300\n",
    "wSize = 300\n",
    "def showImagesMatrix(images_path = None, list_of_image_files = None, list_of_image_titles = None, col=10):\n",
    "    if not list_of_image_files:\n",
    "        list_of_image_files = os.listdir(images_path)\n",
    "    fig = figure( figsize=(wSize, hSize))\n",
    "    number_of_files = len(list_of_image_files)\n",
    "    row = number_of_files/col\n",
    "    if (number_of_files%col != 0):\n",
    "        row += 1\n",
    "    for i in range(number_of_files):\n",
    "        a=fig.add_subplot(row,col,i+1)\n",
    "        if images_path:\n",
    "            image = imread(images_path+'/'+list_of_image_files[i])\n",
    "        else:\n",
    "            image = list_of_image_files[i]\n",
    "        if list_of_image_titles:\n",
    "            plt.title(list_of_image_titles[i])\n",
    "        imshow(image,cmap='Greys_r')\n",
    "        axis('off')"
   ]
  },
  {
   "cell_type": "markdown",
   "metadata": {},
   "source": [
    "# Add helper function to calculate camera calibration coefficients"
   ]
  },
  {
   "cell_type": "code",
   "execution_count": null,
   "metadata": {},
   "outputs": [],
   "source": [
    "import numpy as np\n",
    "import cv2\n",
    "import matplotlib.image as mpimg\n",
    "\n",
    "chessboard_height = 6\n",
    "chessboard_width = 9\n",
    "\n",
    "def calculate_camera_cal_coffs(images_path):\n",
    "    objpoints = [] # 3D points in real world space\n",
    "    imgpoints = [] # 2D points in image plane\n",
    "\n",
    "    images_with_corners = []\n",
    "\n",
    "    chessboard_height = 6\n",
    "    chessboard_width = 9\n",
    "\n",
    "    # Prepae object points, like (0,0,0), (1,0,0), (2,0,0) ..., (7,5,0)\n",
    "    objp = np.zeros((chessboard_height*chessboard_width,3), np.float32)\n",
    "    objp[:,:2] = np.mgrid[0:chessboard_width,0:chessboard_height].T.reshape(-1, 2) #x,y coordinates\n",
    "\n",
    "    for fname in images_path:\n",
    "        # read in each image\n",
    "        img = mpimg.imread(fname)\n",
    "\n",
    "        # convert image into gray scale\n",
    "        gray = cv2.cvtColor(img,cv2.COLOR_BGR2GRAY)\n",
    "\n",
    "        # find the chessboard corners\n",
    "        ret, corners = cv2.findChessboardCorners(gray, (chessboard_width,chessboard_height), None)\n",
    "\n",
    "        # If corners are found, add object points, image points\n",
    "        if ret == True:\n",
    "            imgpoints.append(corners)\n",
    "            objpoints.append(objp)\n",
    "\n",
    "            # draw abd dusolay the coreners\n",
    "            img = cv2.drawChessboardCorners(img, (chessboard_width,chessboard_height), corners, ret)\n",
    "            images_with_corners.append(img)\n",
    "    return imgpoints, objpoints, images_with_corners"
   ]
  },
  {
   "cell_type": "code",
   "execution_count": null,
   "metadata": {},
   "outputs": [],
   "source": [
    "import glob \n",
    "\n",
    "# Read in and make a list of calibaration images\n",
    "images_path = glob.glob('./camera_cal/calibration*.jpg')\n",
    "\n",
    "imgpoints, objpoints, images_with_corners = calculate_camera_cal_coffs(images_path)\n",
    "showImagesMatrix(list_of_image_files = images_with_corners, list_of_image_titles = images_path, col=2)"
   ]
  },
  {
   "cell_type": "markdown",
   "metadata": {},
   "source": [
    "# Add helper function to undistort the image"
   ]
  },
  {
   "cell_type": "code",
   "execution_count": null,
   "metadata": {
    "scrolled": true
   },
   "outputs": [],
   "source": [
    "def cal_undistort(img, objpoints, imgpoints):\n",
    "    # convert image into gray scale\n",
    "    gray = cv2.cvtColor(img,cv2.COLOR_BGR2GRAY)\n",
    "    ret, mtx, dist, rvecs, tvecs = cv2.calibrateCamera(objpoints, imgpoints, gray.shape[::-1], None, None)\n",
    "    undist = cv2.undistort(img, mtx, dist, None, mtx)\n",
    "    return undist"
   ]
  },
  {
   "cell_type": "markdown",
   "metadata": {},
   "source": [
    "# Undistort one of the calibration images"
   ]
  },
  {
   "cell_type": "code",
   "execution_count": null,
   "metadata": {},
   "outputs": [],
   "source": [
    "# read in one calibration image\n",
    "img = mpimg.imread('./camera_cal/calibration1.jpg')\n",
    "\n",
    "undist = cal_undistort(img, objpoints, imgpoints)\n",
    "\n",
    "f, (ax1, ax2) = plt.subplots(1, 2, figsize=(24, 9))\n",
    "f.tight_layout()\n",
    "ax1.imshow(img)\n",
    "ax1.set_title('Original Image', fontsize=50)\n",
    "ax2.imshow(undist)\n",
    "ax2.set_title('Undistorted Image', fontsize=50)\n",
    "plt.subplots_adjust(left=0., right=1, top=0.9, bottom=0.)"
   ]
  },
  {
   "cell_type": "markdown",
   "metadata": {},
   "source": [
    "# Undistort one sample of the calibration images and test images"
   ]
  },
  {
   "cell_type": "code",
   "execution_count": null,
   "metadata": {},
   "outputs": [],
   "source": [
    "# read in one test image\n",
    "cal_img = mpimg.imread('./camera_cal/calibration1.jpg')\n",
    "cal_undist = cal_undistort(cal_img, objpoints, imgpoints)\n",
    "print(cal_img.shape[::-1])\n",
    "test_img = mpimg.imread('./test_images/test2.jpg')\n",
    "test_undist = cal_undistort(test_img, objpoints, imgpoints)\n",
    "\n",
    "\n",
    "f, ((ax1, ax2), (ax3, ax4)) = plt.subplots(2, 2, figsize=(24, 9))\n",
    "f.tight_layout()\n",
    "ax1.imshow(cal_img)\n",
    "ax1.set_title('Original Caliration Image', fontsize=20)\n",
    "ax2.imshow(cal_undist)\n",
    "ax2.set_title('Undistorted Caliration Image', fontsize=20)\n",
    "\n",
    "ax3.imshow(test_img)\n",
    "ax3.set_title('Original Test Image', fontsize=20)\n",
    "ax4.imshow(test_undist)\n",
    "ax4.set_title('Undistorted Test Image', fontsize=20)\n",
    "\n",
    "plt.subplots_adjust(left=0., right=1, top=0.9, bottom=0.)"
   ]
  },
  {
   "cell_type": "markdown",
   "metadata": {},
   "source": [
    "# Add helper functions to undistort and unwarp the images"
   ]
  },
  {
   "cell_type": "code",
   "execution_count": null,
   "metadata": {},
   "outputs": [],
   "source": [
    "src = np.float32([[520, 508], [770,508],[1030,687],[275,678]])\n",
    "dst = np.float32([[275,508],[1030,508],[1030,678],[275,678]])\n",
    "\n",
    "def corners_unwarp(img, nx, ny, mtx, dist):\n",
    "    # Pass in your image into this function\n",
    "    # Write code to do the following steps\n",
    "    # 1) Undistort using mtx and dist\n",
    "    undist = cv2.undistort(img, mtx, dist, None, mtx)\n",
    "    img_size = img.shape[1::-1]\n",
    "    # 2) define 4 source points src = np.float32([[,],[,],[,],[,]])\n",
    "         #Note: you could pick any four of the detected corners \n",
    "         # as long as those four corners define a rectangle\n",
    "         #One especially smart way to do this would be to use four well-chosen\n",
    "         # corners that were automatically detected during the undistortion steps\n",
    "         #We recommend using the automatic detection of corners in your code\n",
    "    #src = np.float32([[520, 508], [770,508],[1030,687],[275,678]])\n",
    "    \"\"\"src = np.float32(\n",
    "    [[(img_size[0] / 2) - 55, img_size[1] / 2 + 100],\n",
    "    [((img_size[0] / 6) - 10), img_size[1]],\n",
    "    [(img_size[0] * 5 / 6) + 60, img_size[1]],\n",
    "    [(img_size[0] / 2 + 55), img_size[1] / 2 + 100]]) \"\"\"\n",
    "    \n",
    "    # 3) define 4 destination points dst = np.float32([[,],[,],[,],[,]])\n",
    "    #dst = np.float32([[275,508],[1030,508],[1030,678],[275,678]])\n",
    "    \"\"\"dst = np.float32(\n",
    "    [[(img_size[0] / 4), 0],\n",
    "    [(img_size[0] / 4), img_size[1]],\n",
    "    [(img_size[0] * 3 / 4), img_size[1]],\n",
    "    [(img_size[0] * 3 / 4), 0]]) \"\"\"\n",
    "    # 4) use cv2.getPerspectiveTransform() to get M, the transform matrix\n",
    "    M = cv2.getPerspectiveTransform(src, dst)\n",
    "    \n",
    "    # 5) use cv2.warpPerspective() to warp your image to a top-down view\n",
    "    img_size = img.shape[1::-1]\n",
    "    warped = cv2.warpPerspective(undist, M, img_size, flags=cv2.INTER_LINEAR)\n",
    "    return warped, M\n",
    "\n",
    "def cal_undistort_unwarp(img, objpoints, imgpoints):\n",
    "    # convert image into gray scale\n",
    "    gray = cv2.cvtColor(img,cv2.COLOR_BGR2GRAY)\n",
    "    ret, mtx, dist, rvecs, tvecs = cv2.calibrateCamera(objpoints, imgpoints, gray.shape[::-1], None, None)\n",
    "    nx = chessboard_width\n",
    "    ny = chessboard_height\n",
    "    warped, M = corners_unwarp(img, nx, ny, mtx, dist)\n",
    "    return warped, M"
   ]
  },
  {
   "cell_type": "markdown",
   "metadata": {},
   "source": [
    "# Undistort and unwarp the test images"
   ]
  },
  {
   "cell_type": "code",
   "execution_count": null,
   "metadata": {},
   "outputs": [],
   "source": [
    "# Read in and make a list of calibaration images\n",
    "test_images_path = glob.glob('./test_images/test*.jpg')\n",
    "bird_eye_perspective_imgs = []\n",
    "for fname in test_images_path:\n",
    "    # read in each image\n",
    "    img = mpimg.imread(fname)   \n",
    "    top_down, perspective_M = cal_undistort_unwarp(img, objpoints, imgpoints)\n",
    "    bird_eye_perspective_imgs.append(top_down)\n",
    "    f, (ax1, ax2) = plt.subplots(1, 2, figsize=(24, 9))\n",
    "    f.tight_layout()\n",
    "    ax1.imshow(img)\n",
    "    ax1.set_title('Original Image', fontsize=50)\n",
    "    ax2.imshow(top_down)\n",
    "    ax2.set_title('Undistorted and Warped Image', fontsize=50)\n",
    "    plt.subplots_adjust(left=0., right=1, top=0.9, bottom=0.)"
   ]
  },
  {
   "cell_type": "markdown",
   "metadata": {},
   "source": [
    "# HLS Color and gradiant"
   ]
  },
  {
   "cell_type": "code",
   "execution_count": null,
   "metadata": {},
   "outputs": [],
   "source": [
    "def color_gradient(img, s_thresh=(170, 255), sx_thresh=(20, 100)):\n",
    "    img = np.copy(img)\n",
    "    r_channel = img[:,:,0]\n",
    "    # Convert to HLS color space and separate the V channel\n",
    "    hls = cv2.cvtColor(img, cv2.COLOR_RGB2HLS)\n",
    "    l_channel = hls[:,:,1]\n",
    "    s_channel = hls[:,:,2]\n",
    "    # Sobel x\n",
    "    sobelx = cv2.Sobel(r_channel, cv2.CV_64F, 1, 0) # Take the derivative in x\n",
    "    abs_sobelx = np.absolute(sobelx) # Absolute x derivative to accentuate lines away from horizontal\n",
    "    scaled_sobel = np.uint8(255*abs_sobelx/np.max(abs_sobelx))\n",
    "    \n",
    "    # Threshold x gradient\n",
    "    sxbinary = np.zeros_like(scaled_sobel)\n",
    "    sxbinary[(scaled_sobel >= sx_thresh[0]) & (scaled_sobel <= sx_thresh[1])] = 1\n",
    "    \n",
    "    # Threshold color channel\n",
    "    s_binary = np.zeros_like(s_channel)\n",
    "    s_binary[(s_channel >= s_thresh[0]) & (s_channel <= s_thresh[1])] = 1\n",
    "    # Stack each channel\n",
    "    #color_binary = np.dstack(( np.zeros_like(sxbinary), sxbinary, s_binary)) * 255\n",
    "    binary_img = sxbinary | s_binary\n",
    "    return binary_img"
   ]
  },
  {
   "cell_type": "markdown",
   "metadata": {},
   "source": [
    "# Apply color_gradient for test images"
   ]
  },
  {
   "cell_type": "code",
   "execution_count": null,
   "metadata": {},
   "outputs": [],
   "source": [
    "# Read in and make a list of test images\n",
    "test_images_path = glob.glob('./test_images/test*.jpg')\n",
    "\n",
    "for fname in test_images_path:\n",
    "    # read in each image\n",
    "    img = mpimg.imread(fname)   \n",
    "    binary_img = color_gradient(img)\n",
    "    f, (ax1, ax2) = plt.subplots(1, 2, figsize=(24, 9))\n",
    "    f.tight_layout()\n",
    "    ax1.imshow(img)\n",
    "    ax1.set_title('Original Image', fontsize=50)\n",
    "    ax2.imshow(binary_img, cmap = 'gray')\n",
    "    ax2.set_title('color and gradient Image', fontsize=50)\n",
    "    plt.subplots_adjust(left=0., right=1, top=0.9, bottom=0.)"
   ]
  },
  {
   "cell_type": "markdown",
   "metadata": {},
   "source": [
    "# Apply HLS color and sobel gradient for bird eye perspective of test images"
   ]
  },
  {
   "cell_type": "code",
   "execution_count": null,
   "metadata": {},
   "outputs": [],
   "source": [
    "bird_eye_gradient_imgs = []\n",
    "for img in bird_eye_perspective_imgs:\n",
    "    binary_img = color_gradient(img)\n",
    "    bird_eye_gradient_imgs.append(binary_img)\n",
    "    f, (ax1, ax2) = plt.subplots(1, 2, figsize=(24, 9))\n",
    "    f.tight_layout()\n",
    "    ax1.imshow(img)\n",
    "    ax1.set_title('Original Image', fontsize=50)\n",
    "    ax2.imshow(binary_img, cmap = 'gray')\n",
    "    ax2.set_title('color and gradient Image', fontsize=50)\n",
    "    plt.subplots_adjust(left=0., right=1, top=0.9, bottom=0.)"
   ]
  },
  {
   "cell_type": "markdown",
   "metadata": {},
   "source": [
    "# Adding helper function to find histogram of the image"
   ]
  },
  {
   "cell_type": "code",
   "execution_count": null,
   "metadata": {},
   "outputs": [],
   "source": [
    "def hist(img):\n",
    "    # TO-DO: Grab only the bottom half of the image\n",
    "    # Lane lines are likely to be mostly vertical nearest to the car\n",
    "    bottom_half = img[img.shape[0]//2:, ...]\n",
    "    # TO-DO: Sum across image pixels vertically - make sure to set `axis`\n",
    "    # i.e. the highest areas of vertical lines should be larger values\n",
    "    histogram = np.sum(img[img.shape[0]//2:,:], axis=0)\n",
    "    return histogram"
   ]
  },
  {
   "cell_type": "markdown",
   "metadata": {},
   "source": [
    "# Visualizing histogram of the bird eye perspective of test images"
   ]
  },
  {
   "cell_type": "code",
   "execution_count": null,
   "metadata": {},
   "outputs": [],
   "source": [
    "# Load our image\n",
    "for img in bird_eye_gradient_imgs:\n",
    "    # Create histogram of image binary activations\n",
    "    histogram = hist(img)\n",
    "    \n",
    "    f, (ax1, ax2) = plt.subplots(1, 2, figsize=(24, 9))\n",
    "    f.tight_layout()\n",
    "    ax1.imshow(img, cmap = 'gray')\n",
    "    ax1.set_title('Original Image', fontsize=50)\n",
    "    ax2.plot(histogram) # Visualize the resulting histogram\n",
    "    ax2.set_title('histogram Image', fontsize=50)\n",
    "    plt.subplots_adjust(left=0., right=1, top=0.9, bottom=0.)"
   ]
  },
  {
   "cell_type": "markdown",
   "metadata": {},
   "source": [
    "# Implementing Sliding Windows and Fit a Polynomial"
   ]
  },
  {
   "cell_type": "code",
   "execution_count": null,
   "metadata": {},
   "outputs": [],
   "source": [
    "def find_lane_pixels(binary_warped):\n",
    "    # Take a histogram of the bottom half of the image\n",
    "    histogram = np.sum(binary_warped[binary_warped.shape[0]//2:,:], axis=0)\n",
    "    # Create an output image to draw on and visualize the result\n",
    "    out_img = np.dstack((binary_warped, binary_warped, binary_warped))\n",
    "    # Find the peak of the left and right halves of the histogram\n",
    "    # These will be the starting point for the left and right lines\n",
    "    midpoint = np.int(histogram.shape[0]//2)\n",
    "    leftx_base = np.argmax(histogram[:midpoint])\n",
    "    rightx_base = np.argmax(histogram[midpoint:]) + midpoint\n",
    "\n",
    "    # HYPERPARAMETERS\n",
    "    # Choose the number of sliding windows\n",
    "    nwindows = 9\n",
    "    # Set the width of the windows +/- margin\n",
    "    margin = 100\n",
    "    # Set minimum number of pixels found to recenter window\n",
    "    minpix = 50\n",
    "\n",
    "    # Set height of windows - based on nwindows above and image shape\n",
    "    window_height = np.int(binary_warped.shape[0]//nwindows)\n",
    "    # Identify the x and y positions of all nonzero pixels in the image\n",
    "    nonzero = binary_warped.nonzero()\n",
    "    nonzeroy = np.array(nonzero[0])\n",
    "    \n",
    "    nonzerox = np.array(nonzero[1])\n",
    "    # Current positions to be updated later for each window in nwindows\n",
    "    leftx_current = leftx_base\n",
    "    rightx_current = rightx_base\n",
    "\n",
    "    # Create empty lists to receive left and right lane pixel indices\n",
    "    left_lane_inds = []\n",
    "    right_lane_inds = []\n",
    "\n",
    "    # Step through the windows one by one\n",
    "    for window in range(nwindows):\n",
    "        # Identify window boundaries in x and y (and right and left)\n",
    "        win_y_low = binary_warped.shape[0] - (window+1)*window_height\n",
    "        win_y_high = binary_warped.shape[0] - window*window_height\n",
    "        ### TO-DO: Find the four below boundaries of the window ###\n",
    "        win_xleft_low = leftx_current - margin  # Update this\n",
    "        win_xleft_high = leftx_current + margin  # Update this\n",
    "        win_xright_low = rightx_current - margin  # Update this\n",
    "        win_xright_high = rightx_current + margin  # Update this\n",
    "        \n",
    "        # Draw the windows on the visualization image\n",
    "        cv2.rectangle(out_img,(win_xleft_low,win_y_low),\n",
    "        (win_xleft_high,win_y_high),(0,255,0), 2) \n",
    "        cv2.rectangle(out_img,(win_xright_low,win_y_low),\n",
    "        (win_xright_high,win_y_high),(0,255,0), 2) \n",
    "        \n",
    "        ### TO-DO: Identify the nonzero pixels in x and y within the window ###\n",
    "        good_left_inds = ((nonzerox >= win_xleft_low) & (nonzerox < win_xleft_high) &\\\n",
    "            (nonzeroy >= win_y_low) & (nonzeroy < win_y_high)).nonzero()[0]\n",
    "        good_right_inds = ((nonzerox >= win_xright_low) & (nonzerox < win_xright_high) &\\\n",
    "            (nonzeroy >= win_y_low) & (nonzeroy < win_y_high)).nonzero()[0]\n",
    "        \n",
    "        # Append these indices to the lists\n",
    "        left_lane_inds.append(good_left_inds)\n",
    "        right_lane_inds.append(good_right_inds)\n",
    "        \n",
    "        ### TO-DO: If you found > minpix pixels, recenter next window ###\n",
    "        ### (`right` or `leftx_current`) on their mean position ###\n",
    "        if len(good_left_inds) > minpix:\n",
    "            leftx_current = int(np.mean(nonzerox[good_left_inds]))\n",
    "        if len(good_right_inds) > minpix:\n",
    "            rightx_current = int(np.mean(nonzerox[good_right_inds]))\n",
    "\n",
    "    # Concatenate the arrays of indices (previously was a list of lists of pixels)\n",
    "    try:\n",
    "        left_lane_inds = np.concatenate(left_lane_inds)\n",
    "        right_lane_inds = np.concatenate(right_lane_inds)\n",
    "    except ValueError:\n",
    "        # Avoids an error if the above is not implemented fully\n",
    "        pass\n",
    "\n",
    "    # Extract left and right line pixel positions\n",
    "    leftx = nonzerox[left_lane_inds]\n",
    "    lefty = nonzeroy[left_lane_inds] \n",
    "    rightx = nonzerox[right_lane_inds]\n",
    "    righty = nonzeroy[right_lane_inds]\n",
    "\n",
    "    return leftx, lefty, rightx, righty, out_img\n",
    "\n",
    "\n",
    "def fit_polynomial(binary_warped):\n",
    "    # Find our lane pixels first\n",
    "    leftx, lefty, rightx, righty, out_img = find_lane_pixels(binary_warped)\n",
    "\n",
    "    ### TO-DO: Fit a second order polynomial to each using `np.polyfit` ###\n",
    "    left_fit = np.polyfit(lefty, leftx, 2)\n",
    "    right_fit = np.polyfit(righty, rightx, 2)\n",
    "\n",
    "    # Generate x and y values for plotting\n",
    "    ploty = np.linspace(0, binary_warped.shape[0]-1, binary_warped.shape[0] )\n",
    "    try:\n",
    "        left_fitx = left_fit[0]*ploty**2 + left_fit[1]*ploty + left_fit[2]\n",
    "        right_fitx = right_fit[0]*ploty**2 + right_fit[1]*ploty + right_fit[2]\n",
    "    except TypeError:\n",
    "        # Avoids an error if `left` and `right_fit` are still none or incorrect\n",
    "        print('The function failed to fit a line!')\n",
    "        left_fitx = 1*ploty**2 + 1*ploty\n",
    "        right_fitx = 1*ploty**2 + 1*ploty\n",
    "\n",
    "    ## Visualization ##\n",
    "    # Colors in the left and right lane regions\n",
    "    out_img[lefty, leftx] = [255, 0, 0]\n",
    "    out_img[righty, rightx] = [0, 0, 255]\n",
    "\n",
    "    return out_img, left_fitx, right_fitx, ploty, left_fit, right_fit"
   ]
  },
  {
   "cell_type": "markdown",
   "metadata": {},
   "source": [
    "# Visualizing Sliding Windows and Fit a Polynomial for the bird eye perspective of test images"
   ]
  },
  {
   "cell_type": "code",
   "execution_count": null,
   "metadata": {},
   "outputs": [],
   "source": [
    "# Load our image\n",
    "left_fits = [] \n",
    "right_fits = []\n",
    "\n",
    "for img in bird_eye_gradient_imgs:\n",
    "    # Create histogram of image binary activations\n",
    "    out_img, left_fitx, right_fitx, ploty, left_fit, right_fit = fit_polynomial(img)\n",
    "    \n",
    "    left_fits.append(left_fit)\n",
    "    right_fits.append(right_fit)\n",
    "    \n",
    "    f, (ax1, ax2) = plt.subplots(1, 2, figsize=(24, 9))\n",
    "    f.tight_layout()\n",
    "    ax1.imshow(img, cmap = 'gray')\n",
    "    ax1.set_title('bird eye gradient Image', fontsize=50)\n",
    "    \n",
    "    ax2.imshow(out_img)\n",
    "    # Plots the left and right polynomials on the lane lines\n",
    "    ax2.plot(left_fitx, ploty, color='yellow')\n",
    "    ax2.plot(right_fitx, ploty, color='yellow')\n",
    "    \n",
    "    ax2.set_title('Sliding Windows and Fit a Polynomial Image', fontsize=50)\n",
    "    plt.subplots_adjust(left=0., right=1, top=0.9, bottom=0.)"
   ]
  },
  {
   "cell_type": "markdown",
   "metadata": {},
   "source": [
    "# Finding the lane lines calculated by searching from prior detections"
   ]
  },
  {
   "cell_type": "code",
   "execution_count": null,
   "metadata": {},
   "outputs": [],
   "source": [
    "def fit_poly(img_shape, leftx, lefty, rightx, righty):\n",
    "    ### TO-DO: Fit a second order polynomial to each with np.polyfit() ###\n",
    "    left_fit = np.polyfit(lefty, leftx, 2)\n",
    "    right_fit = np.polyfit(righty, rightx, 2)\n",
    "    # Generate x and y values for plotting\n",
    "    ploty = np.linspace(0, img_shape[0]-1, img_shape[0])\n",
    "    ### TO-DO: Calc both polynomials using ploty, left_fit and right_fit ###\n",
    "    left_fitx = left_fit[0]*ploty**2 + left_fit[1]*ploty + left_fit[2]\n",
    "    right_fitx = right_fit[0]*ploty**2 + right_fit[1]*ploty + right_fit[2]\n",
    "    \n",
    "    return left_fitx, right_fitx, ploty\n",
    "\n",
    "def search_around_poly(binary_warped, left_fit, right_fit):\n",
    "    # HYPERPARAMETER\n",
    "    # Choose the width of the margin around the previous polynomial to search\n",
    "    # The quiz grader expects 100 here, but feel free to tune on your own!\n",
    "    margin = 100\n",
    "\n",
    "    # Grab activated pixels\n",
    "    nonzero = binary_warped.nonzero()\n",
    "    nonzeroy = np.array(nonzero[0])\n",
    "    nonzerox = np.array(nonzero[1])\n",
    "    \n",
    "    ### TO-DO: Set the area of search based on activated x-values ###\n",
    "    ### within the +/- margin of our polynomial function ###\n",
    "    ### Hint: consider the window areas for the similarly named variables ###\n",
    "    ### in the previous quiz, but change the windows to our new search area ###\n",
    "    # Identify window boundaries in x and y (and right and left)\n",
    "    \n",
    "    left_lane_inds = ((nonzerox > (left_fit[0]*(nonzeroy**2) + left_fit[1]*nonzeroy + \n",
    "                    left_fit[2] - margin)) & (nonzerox < (left_fit[0]*(nonzeroy**2) + \n",
    "                    left_fit[1]*nonzeroy + left_fit[2] + margin)))\n",
    "    right_lane_inds = ((nonzerox > (right_fit[0]*(nonzeroy**2) + right_fit[1]*nonzeroy + \n",
    "                    right_fit[2] - margin)) & (nonzerox < (right_fit[0]*(nonzeroy**2) + \n",
    "                    right_fit[1]*nonzeroy + right_fit[2] + margin)))\n",
    "    \n",
    "    # Again, extract left and right line pixel positions\n",
    "    leftx = nonzerox[left_lane_inds]\n",
    "    lefty = nonzeroy[left_lane_inds] \n",
    "    rightx = nonzerox[right_lane_inds]\n",
    "    righty = nonzeroy[right_lane_inds]\n",
    "\n",
    "    # Fit new polynomials\n",
    "    left_fitx, right_fitx, ploty = fit_poly(binary_warped.shape, leftx, lefty, rightx, righty)\n",
    "    \n",
    "    ## Visualization ##\n",
    "    # Create an image to draw on and an image to show the selection window\n",
    "    out_img = np.dstack((binary_warped, binary_warped, binary_warped))*255\n",
    "    window_img = np.zeros_like(out_img)\n",
    "    # Color in left and right line pixels\n",
    "    out_img[nonzeroy[left_lane_inds], nonzerox[left_lane_inds]] = [255, 0, 0]\n",
    "    out_img[nonzeroy[right_lane_inds], nonzerox[right_lane_inds]] = [0, 0, 255]\n",
    "\n",
    "    # Generate a polygon to illustrate the search window area\n",
    "    # And recast the x and y points into usable format for cv2.fillPoly()\n",
    "    left_line_window1 = np.array([np.transpose(np.vstack([left_fitx-margin, ploty]))])\n",
    "    left_line_window2 = np.array([np.flipud(np.transpose(np.vstack([left_fitx+margin, \n",
    "                              ploty])))])\n",
    "    left_line_pts = np.hstack((left_line_window1, left_line_window2))\n",
    "    right_line_window1 = np.array([np.transpose(np.vstack([right_fitx-margin, ploty]))])\n",
    "    right_line_window2 = np.array([np.flipud(np.transpose(np.vstack([right_fitx+margin, \n",
    "                              ploty])))])\n",
    "    right_line_pts = np.hstack((right_line_window1, right_line_window2))\n",
    "\n",
    "    # Draw the lane onto the warped blank image\n",
    "    cv2.fillPoly(window_img, np.int_([left_line_pts]), (0,255, 0))\n",
    "    cv2.fillPoly(window_img, np.int_([right_line_pts]), (0,255, 0))\n",
    "    result = cv2.addWeighted(out_img, 1, window_img, 0.3, 0)\n",
    "    \n",
    "    # Plot the polynomial lines onto the image\n",
    "    #plt.plot(left_fitx, ploty, color='yellow')\n",
    "    #plt.plot(right_fitx, ploty, color='yellow')\n",
    "    ## End visualization steps ##\n",
    "    \n",
    "    return result, left_fitx, right_fitx, ploty"
   ]
  },
  {
   "cell_type": "markdown",
   "metadata": {},
   "source": [
    "# Visualizing the lane lines calculated by searching from prior detections"
   ]
  },
  {
   "cell_type": "code",
   "execution_count": null,
   "metadata": {},
   "outputs": [],
   "source": [
    "bird_eye_offset_lanes_imgs = []\n",
    "for img, left_fit, right_fit in zip(bird_eye_gradient_imgs, left_fits, right_fits):\n",
    "    # Create histogram of image binary activations\n",
    "    result, left_fitx, right_fitx, ploty = search_around_poly(img, left_fit, right_fit)\n",
    "    bird_eye_offset_lanes_imgs.append(result)\n",
    "    \n",
    "    f, (ax1, ax2) = plt.subplots(1, 2, figsize=(24, 9))\n",
    "    f.tight_layout()\n",
    "    ax1.imshow(img, cmap = 'gray')\n",
    "    ax1.set_title('bird eye gradient Image', fontsize=50)\n",
    "    \n",
    "    ax2.imshow(result)\n",
    "    # Plots the left and right polynomials on the lane lines\n",
    "    ax2.plot(left_fitx, ploty, color='yellow')\n",
    "    ax2.plot(right_fitx, ploty, color='yellow')\n",
    "    \n",
    "    ax2.set_title('Sliding Windows and Fit a Polynomial Image', fontsize=50)\n",
    "    plt.subplots_adjust(left=0., right=1, top=0.9, bottom=0.)\n",
    "\n"
   ]
  },
  {
   "cell_type": "markdown",
   "metadata": {},
   "source": [
    "# Measuring Curvature"
   ]
  },
  {
   "cell_type": "code",
   "execution_count": null,
   "metadata": {},
   "outputs": [],
   "source": [
    "def measure_curvature_real(img):\n",
    "    '''\n",
    "    Calculates the curvature of polynomial functions in meters.\n",
    "    '''\n",
    "    # Define conversions in x and y from pixels space to meters\n",
    "    ym_per_pix = 30/720 # meters per pixel in y dimension\n",
    "    xm_per_pix = 3.7/700 # meters per pixel in x dimension\n",
    "    \n",
    "    leftx, lefty, rightx, righty, out_img = find_lane_pixels(img)\n",
    "\n",
    "    left_fit_cr = np.polyfit(lefty*ym_per_pix, leftx*xm_per_pix, 2)\n",
    "    right_fit_cr = np.polyfit(righty*ym_per_pix, rightx*xm_per_pix, 2)\n",
    "    \n",
    "    # Define y-value where we want radius of curvature\n",
    "    # We'll choose the maximum y-value, corresponding to the bottom of the image\n",
    "    y_eval = np.max(ploty)\n",
    "    \n",
    "    # Calculation of R_curve (radius of curvature)\n",
    "    left_curverad = ((1 + (2*left_fit_cr[0]*y_eval*ym_per_pix + left_fit_cr[1])**2)**1.5) / np.absolute(2*left_fit_cr[0])\n",
    "    right_curverad = ((1 + (2*right_fit_cr[0]*y_eval*ym_per_pix + right_fit_cr[1])**2)**1.5) / np.absolute(2*right_fit_cr[0])\n",
    "    \n",
    "    return left_curverad, right_curverad"
   ]
  },
  {
   "cell_type": "markdown",
   "metadata": {},
   "source": [
    "# Printing Measured Curvature values in meters"
   ]
  },
  {
   "cell_type": "code",
   "execution_count": null,
   "metadata": {},
   "outputs": [],
   "source": [
    "for img in bird_eye_gradient_imgs:\n",
    "    left_curverad, right_curverad = measure_curvature_real(img)\n",
    "    f, (ax1) = plt.subplots(1, 1, figsize=(12, 4))\n",
    "    f.tight_layout()\n",
    "    ax1.imshow(img, cmap = 'gray')\n",
    "    ax1.set_title(str('left_curverad: ' + str(left_curverad) + ', right_curverad: ' + str(right_curverad) + ', diff: ' + str(left_curverad - right_curverad)), fontsize=20)\n",
    "    plt.subplots_adjust(left=0., right=1, top=0.9, bottom=0.)\n",
    "    "
   ]
  },
  {
   "cell_type": "markdown",
   "metadata": {},
   "source": [
    "# Implementing draw a green lane on the test images"
   ]
  },
  {
   "cell_type": "code",
   "execution_count": null,
   "metadata": {},
   "outputs": [],
   "source": [
    "# use cv2.getPerspectiveTransform() to get M, the transform matrix\n",
    "inverse_M = cv2.getPerspectiveTransform(dst, src)\n",
    "\n",
    "def combine_img_with_green_lane(image, binary_warped, left_fit, right_fit):\n",
    "    undist = cal_undistort(image, objpoints, imgpoints)\n",
    "    \n",
    "    # Generate x and y values for plotting\n",
    "    ploty = np.linspace(0, binary_warped.shape[0]-1, binary_warped.shape[0] )\n",
    "    left_fitx = left_fit[0]*ploty**2 + left_fit[1]*ploty + left_fit[2]\n",
    "    right_fitx = right_fit[0]*ploty**2 + right_fit[1]*ploty + right_fit[2]\n",
    "    \n",
    "    # Create an image to draw the lines on\n",
    "    warp_zero = np.zeros_like(binary_warped).astype(np.uint8)\n",
    "    color_warp = np.dstack((warp_zero, warp_zero, warp_zero))\n",
    "\n",
    "    # Recast the x and y points into usable format for cv2.fillPoly()\n",
    "    pts_left = np.array([np.transpose(np.vstack([left_fitx, ploty]))])\n",
    "    pts_right = np.array([np.flipud(np.transpose(np.vstack([right_fitx, ploty])))])\n",
    "    pts = np.hstack((pts_left, pts_right))\n",
    "\n",
    "    # Draw the lane onto the warped blank image\n",
    "    cv2.fillPoly(color_warp, np.int_([pts]), (0,255, 0))\n",
    "    \n",
    "    # Warp the blank back to original image space using inverse perspective matrix (inverse_M)\n",
    "    newwarp = cv2.warpPerspective(color_warp, inverse_M, (image.shape[1], image.shape[0]), flags=cv2.INTER_LINEAR) \n",
    "    \n",
    "    # Combine the result with the original image\n",
    "    green_lane_img = cv2.addWeighted(undist, 1, newwarp, 0.3, 0)\n",
    "    \n",
    "    return green_lane_img"
   ]
  },
  {
   "cell_type": "markdown",
   "metadata": {},
   "source": [
    "# Draw a green lane on the test images"
   ]
  },
  {
   "cell_type": "code",
   "execution_count": null,
   "metadata": {},
   "outputs": [],
   "source": [
    "for fname, binary_warped, left_fit, right_fit in zip(test_images_path, bird_eye_gradient_imgs, left_fits, right_fits): \n",
    "    # read in each image\n",
    "    image = mpimg.imread(fname) \n",
    "    \n",
    "    green_lane_img = combine_img_with_green_lane(image, binary_warped, left_fit, right_fit)\n",
    "    \n",
    "    left_curverad, right_curverad = measure_curvature_real(binary_warped)\n",
    "    \n",
    "    f, (ax1) = plt.subplots(1, 1, figsize=(12, 4))\n",
    "    f.tight_layout()\n",
    "    ax1.imshow(green_lane_img)\n",
    "    \n",
    "    ax1.set_title(str('left_curverad: ' + str(left_curverad) + ', right_curverad: ' + str(right_curverad) + ', diff: ' + str(left_curverad - right_curverad)), fontsize=20)\n",
    "    plt.subplots_adjust(left=0., right=1, top=0.9, bottom=0.)"
   ]
  },
  {
   "cell_type": "markdown",
   "metadata": {},
   "source": [
    "# Define a line class to track the lfet and right lane lines data"
   ]
  },
  {
   "cell_type": "code",
   "execution_count": null,
   "metadata": {},
   "outputs": [],
   "source": [
    "# Define a class to receive the characteristics of each line detection\n",
    "class Line():\n",
    "    def __init__(self):\n",
    "        # was the line detected in the last iteration?\n",
    "        self.detected = False  \n",
    "        # x values of the last n fits of the line\n",
    "        self.recent_xfitted = [] \n",
    "        #average x values of the fitted line over the last n iterations\n",
    "        self.bestx = None     \n",
    "        #polynomial coefficients averaged over the last n iterations\n",
    "        self.best_fit = None  \n",
    "        #polynomial coefficients for the most recent fit\n",
    "        self.current_fit = [np.array([False])]  \n",
    "        #radius of curvature of the line in some units\n",
    "        self.radius_of_curvature = None \n",
    "        #distance in meters of vehicle center from the line\n",
    "        self.line_base_pos = None \n",
    "        #difference in fit coefficients between last and new fits\n",
    "        self.diffs = np.array([0,0,0], dtype='float') \n",
    "        #x values for detected line pixels\n",
    "        self.allx = None  \n",
    "        #y values for detected line pixels\n",
    "        self.ally = None "
   ]
  },
  {
   "cell_type": "markdown",
   "metadata": {},
   "source": [
    "# Implementing the complete pipe line in one function"
   ]
  },
  {
   "cell_type": "code",
   "execution_count": null,
   "metadata": {},
   "outputs": [],
   "source": [
    "def process_image(image):\n",
    "    #undistort the input image\n",
    "    cal_undist = cal_undistort(image, objpoints, imgpoints)\n",
    "\n",
    "    #undistort & unwarp [convert to bird eye perspective] the input image\n",
    "    top_down_image, perspective_M = cal_undistort_unwarp(image, objpoints, imgpoints)\n",
    "\n",
    "    # Apply HLS color and sobel gradient for bird eye perspective of test images\n",
    "    top_down_binary_img = color_gradient(top_down_image)\n",
    "\n",
    "    # Create histogram of image binary activations\n",
    "    #the out_img is the top down binary image after adding sliding windows on its output and mark the left lane points as red and the right lane points as blue\n",
    "    out_img, _, __, ___, left_fit_coffs, right_fit_coffs = fit_polynomial(top_down_binary_img)\n",
    "\n",
    "    #Measure Curvature values in meters\n",
    "    left_curverad, right_curverad = measure_curvature_real(top_down_binary_img)\n",
    "\n",
    "    # Draw a green lane on the input image\n",
    "    green_lane_img = combine_img_with_green_lane(image, top_down_binary_img, left_fit_coffs, right_fit_coffs)\n",
    "\n",
    "    return green_lane_img"
   ]
  },
  {
   "cell_type": "markdown",
   "metadata": {},
   "source": [
    "# Run the pipe line on the test images"
   ]
  },
  {
   "cell_type": "code",
   "execution_count": null,
   "metadata": {},
   "outputs": [],
   "source": [
    "test_images_path = glob.glob('./test_images/test*.jpg')\n",
    "for fname in test_images_path:\n",
    "    # read in each image\n",
    "    image = mpimg.imread(fname) \n",
    "    \n",
    "    green_lane_img = process_image(image)\n",
    "    \n",
    "    left_curverad, right_curverad = measure_curvature_real(binary_warped)\n",
    "    \n",
    "    f, (ax1) = plt.subplots(1, 1, figsize=(12, 4))\n",
    "    f.tight_layout()\n",
    "    ax1.imshow(green_lane_img)\n",
    "    \n",
    "    ax1.set_title(str('left_curverad: ' + str(left_curverad) + ', right_curverad: ' + str(right_curverad) + ', diff: ' + str(left_curverad - right_curverad)), fontsize=20)\n",
    "    plt.subplots_adjust(left=0., right=1, top=0.9, bottom=0.)"
   ]
  },
  {
   "cell_type": "markdown",
   "metadata": {},
   "source": [
    "# Run the pipline on a video input"
   ]
  },
  {
   "cell_type": "code",
   "execution_count": null,
   "metadata": {},
   "outputs": [],
   "source": [
    "# Import everything needed to edit/save/watch video clips# Import \n",
    "from moviepy.editor import VideoFileClip\n",
    "from IPython.display import HTML"
   ]
  },
  {
   "cell_type": "code",
   "execution_count": null,
   "metadata": {},
   "outputs": [],
   "source": [
    "yellow_output = 'output_videos/project_video.mp4'\n",
    "## To speed up the testing process you may want to try your pipeline on a shorter subclip of the video\n",
    "## To do so add .subclip(start_second,end_second) to the end of the line below\n",
    "## Where start_second and end_second are integer values representing the start and end of the subclip\n",
    "## You may also uncomment the following line for a subclip of the first 5 seconds\n",
    "##clip1 = VideoFileClip(\"test_videos/solidWhiteRight.mp4\").subclip(0,5)\n",
    "clip1 = VideoFileClip(\"project_video.mp4\")\n",
    "white_clip = clip1.fl_image(process_image) #NOTE: this function expects color images!!\n",
    "%time white_clip.write_videofile(white_output, audio=False)"
   ]
  },
  {
   "cell_type": "code",
   "execution_count": null,
   "metadata": {},
   "outputs": [],
   "source": [
    "HTML(\"\"\"\n",
    "<video width=\"960\" height=\"540\" controls>\n",
    "  <source src=\"{0}\">\n",
    "</video>\n",
    "\"\"\".format(yellow_output))"
   ]
  },
  {
   "cell_type": "code",
   "execution_count": null,
   "metadata": {},
   "outputs": [],
   "source": []
  }
 ],
 "metadata": {
  "kernelspec": {
   "display_name": "Python 3",
   "language": "python",
   "name": "python3"
  },
  "language_info": {
   "codemirror_mode": {
    "name": "ipython",
    "version": 3
   },
   "file_extension": ".py",
   "mimetype": "text/x-python",
   "name": "python",
   "nbconvert_exporter": "python",
   "pygments_lexer": "ipython3",
   "version": "3.5.2"
  },
  "widgets": {
   "state": {},
   "version": "1.1.2"
  }
 },
 "nbformat": 4,
 "nbformat_minor": 2
}
